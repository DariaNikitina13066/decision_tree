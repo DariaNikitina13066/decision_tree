{
  "cells": [
    {
      "cell_type": "code",
      "execution_count": null,
      "metadata": {
        "colab": {
          "background_save": true,
          "base_uri": "https://localhost:8080/"
        },
        "id": "O5e5Odvw7iOt",
        "outputId": "dc27e5e1-da86-4659-dbcc-b10f1d66fab5"
      },
      "outputs": [
        {
          "name": "stdout",
          "output_type": "stream",
          "text": [
            "Введите долю, которую занимает обучающая выборка от общего размера набора данных (от 0.5 до 0.1):\n",
            "Показатели качества классификации данного набора:\n",
            "Accuracy: 0.9666666666666667\n",
            "Micro-averaged precision, recall and F1 score: 0.9666666666666667, 0.9666666666666667, 0.9666666666666667\n",
            "Macro-averaged precision, recall and F1 score: 0.9639376218323585, 0.9639376218323585, 0.9639376218323585\n",
            "Per-class precision, recall and F1 score: [1.         0.94736842 0.94444444], [1.         0.94736842 0.94444444], [1.         0.94736842 0.94444444]\n",
            "Введите критерий выбора атрибута разбиения: information gain, gini index, gini ratio\n"
          ]
        }
      ],
      "source": [
        "import numpy as np\n",
        "import pandas as pd\n",
        "import matplotlib.pyplot as plt\n",
        "import seaborn as sns\n",
        "#df=pd.read_csv(\"/content/drive/MyDrive/Diabetes1.csv\")\n",
        "#print(df.head())\n",
        "#X=df.iloc[:,:2]\n",
        "#Y=df.iloc[:,2:]\n",
        "\n",
        "\n",
        "from sklearn.datasets import load_iris\n",
        "iris = load_iris()\n",
        "X = iris['data']\n",
        "Y = iris['target']\n",
        "from sklearn import tree,neighbors\n",
        "from sklearn.model_selection import train_test_split\n",
        "print('Введите долю, которую занимает обучающая выборка от общего размера набора данных (от 0.5 до 0.1):')\n",
        "test_data=float(input())\n",
        "x_train,x_test,y_train,y_test=train_test_split(X,Y,test_size=test_data)\n",
        "\n",
        "model=neighbors.KNeighborsClassifier()\n",
        "model.fit(X,Y)\n",
        "model.score(X,Y)\n",
        "\n",
        "from sklearn.metrics import accuracy_score, f1_score, precision_score, recall_score\n",
        "predictions=model.predict(x_test)\n",
        "print('Показатели качества классификации данного набора:')\n",
        "accuracy=accuracy_score(y_test,predictions)\n",
        "print(f'Accuracy: {accuracy}')\n",
        "\n",
        "micro_precision = precision_score(predictions, y_test, average='micro')\n",
        "micro_f1=f1_score(y_test, predictions, average='micro')\n",
        "micro_recall=recall_score(y_test, predictions, average='micro')\n",
        "print(f'Micro-averaged precision, recall and F1 score: {micro_precision}, {micro_recall}, {micro_f1}')\n",
        "\n",
        "macro_precision = precision_score(predictions, y_test, average='macro')\n",
        "macro_f1=f1_score(y_test, predictions, average='macro')\n",
        "macro_recall=recall_score(y_test, predictions, average='macro')\n",
        "print(f'Macro-averaged precision, recall and F1 score: {macro_precision}, {macro_recall}, {macro_f1}')\n",
        "\n",
        "per_class_precision = precision_score(predictions, y_test, average=None)\n",
        "per_class_f1=f1_score(y_test, predictions, average=None)\n",
        "per_class_recall=recall_score(y_test, predictions, average=None)\n",
        "print(f'Per-class precision, recall and F1 score: {per_class_precision}, {per_class_recall}, {per_class_f1}')\n",
        "\n",
        "print(\"Введите критерий выбора атрибута разбиения: information gain, gini index, gini ratio\")\n",
        "data=input()\n",
        "def switch(data):\n",
        "    if data==\"information gain\":\n",
        "      tree.plot_tree(tree.DecisionTreeClassifier(criterion=\"entropy\").fit(X,Y))\n",
        "    elif data==\"gini index\":\n",
        "      tree.plot_tree(tree.DecisionTreeClassifier(criterion=\"gini\").fit(X,Y))\n",
        "    elif data==\"gini ratio\":\n",
        "      tree.plot_tree(tree.DecisionTreeClassifier(criterion=\"log_loss\").fit(X,Y))\n",
        "    else:\n",
        "      print('Некорректные данные!')\n",
        "\n",
        "switch(data)                   "
      ]
    }
  ],
  "metadata": {
    "colab": {
      "provenance": []
    },
    "kernelspec": {
      "display_name": "Python 3",
      "name": "python3"
    },
    "language_info": {
      "name": "python"
    }
  },
  "nbformat": 4,
  "nbformat_minor": 0
}